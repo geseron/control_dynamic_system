{
 "cells": [
  {
   "cell_type": "code",
   "execution_count": 2,
   "metadata": {},
   "outputs": [],
   "source": [
    "import numpy as np\n",
    "import pandas as pd\n",
    "import matplotlib.pyplot as plt\n",
    "from sklearn.metrics import mean_squared_error\n",
    "from sklearn.metrics import mean_absolute_error\n",
    "from scipy.integrate import odeint\n",
    "from sklearn.model_selection import train_test_split\n",
    "from tqdm import tqdm"
   ]
  },
  {
   "cell_type": "code",
   "execution_count": null,
   "metadata": {},
   "outputs": [],
   "source": [
    "def nuke_Epa(x):\n",
    "    if (abs(x) <= 1):\n",
    "        return 3/4 * (1-x**2)\n",
    "    else:\n",
    "        return 0\n",
    "    \n",
    "def nuke_Epa_der(x):\n",
    "    if (abs(x) <= 1):\n",
    "        return (-3*x)/2\n",
    "    else:\n",
    "        return 0\n",
    "    \n",
    "def h_estimate_opt(X_pred, x_train, y_train, par_blur, nuke_der):\n",
    "    def find_borders(x, some_x, par_blur):\n",
    "        # x - точки диапазона переменной обучающей выборки\n",
    "        # some_x - точка, значение в которой нужно предсказать\n",
    "        # par_blur - параметр размытости\n",
    "        # border_index -  индекс правой границы\n",
    "        border_index = len(x)-1\n",
    "        border_value = some_x + 30*par_blur\n",
    "        for i in range(len(x)):\n",
    "            if ( x.iloc[i] > border_value ):\n",
    "                return i\n",
    "        return border_index\n",
    "    \n",
    "    border_index = find_borders(x_train, X_pred, par_blur)\n",
    "    x_train = x_train[0:border_index]\n",
    "    y_train = y_train[0:border_index]\n",
    "    c = 0\n",
    "    size = len(x_train)\n",
    "    T = x_train.iloc[-1] - x_train.iloc[0]\n",
    "    z = T / (size * (par_blur**2))\n",
    "    for i in range(size):\n",
    "        c += y_train.iloc[i] * nuke_der((X_pred-x_train.iloc[i])/par_blur)\n",
    "    return z * c"
   ]
  },
  {
   "cell_type": "code",
   "execution_count": null,
   "metadata": {},
   "outputs": [],
   "source": [
    "def u_one(x):\n",
    "    if (x>=0):\n",
    "        return 1\n",
    "    else: return 0"
   ]
  },
  {
   "cell_type": "code",
   "execution_count": null,
   "metadata": {},
   "outputs": [],
   "source": [
    "def h_pic(data, data_sample):\n",
    "    fig = plt.figure(figsize =(10, 5))\n",
    "    ax = plt.axes()\n",
    "    plt.title('Восстановление весовой функции')\n",
    "    ax.plot(data['t'], data['obj1_one'],c='magenta', label='$k$')\n",
    "    ax.plot(data['t'],data['obj1_one_derivative'],'--', c='magenta', label='$h$')\n",
    "\n",
    "    ax.plot(data_sample['t'],data_sample['h_estimate'], c='red', label='$\\hat{h}$')\n",
    "\n",
    "    ax.scatter(data_sample['t'], data_sample['obj1_one'],c='#D752FF', s=10)\n",
    "    ax.scatter(data_sample['t'], data_sample['obj1_one_derivative'],c='#D752FF', s=10)\n",
    "\n",
    "    plt.legend()\n",
    "    plt.grid()\n",
    "    plt.show()\n",
    "\n",
    "def w_pic(data, data_sample):\n",
    "    fig = plt.figure(figsize =(10, 5))\n",
    "    ax = plt.axes()\n",
    "    plt.title('Обратная весовая функция')\n",
    "    ax.plot(data['t'], data['obj1_one'],c='magenta', label='$k$')\n",
    "    ax.plot(data['t'],data['obj1_one_derivative'],'--', c='magenta', label='$h$')\n",
    "\n",
    "    ax.plot(data_sample['t'],data_sample['h_estimate'], c='red', label='$\\hat{h}$')\n",
    "\n",
    "    ax.scatter(data_sample['t'], data_sample['obj1_one'],c='#D752FF', s=10)\n",
    "    ax.scatter(data_sample['t'], data_sample['obj1_one_derivative'],c='#D752FF', s=10)\n",
    "\n",
    "    ax.plot(data_sample['t'],data_sample['w_estimate'], c='blue', label='$\\hat{w}$')\n",
    "\n",
    "    ax.set_xlim(0,2)\n",
    "    ax.set_ylim(-3000,3000)\n",
    "    plt.legend()\n",
    "    plt.grid()\n",
    "    plt.show()"
   ]
  },
  {
   "cell_type": "code",
   "execution_count": null,
   "metadata": {},
   "outputs": [],
   "source": [
    "T = 12.5\n",
    "period = 10\n",
    "dispersion = 0.05\n",
    "random_state = 10"
   ]
  },
  {
   "cell_type": "code",
   "execution_count": 11,
   "metadata": {},
   "outputs": [
    {
     "data": {
      "image/png": "[encoded data removed]",
      "text/plain": [
       "<Figure size 640x480 with 1 Axes>"
      ]
     },
     "metadata": {},
     "output_type": "display_data"
    }
   ],
   "source": [
    "def runge_kutta_4th_order(funcs, y0, t0, t_end, dt):\n",
    "    num_steps = int((t_end - t0) / dt)\n",
    "    t_values = np.linspace(t0, t_end, num_steps + 1)\n",
    "    y_values = np.zeros((num_steps + 1, len(y0)))\n",
    "    y_values[0] = y0\n",
    "\n",
    "    for i in range(num_steps):\n",
    "        t = t_values[i]\n",
    "        y = y_values[i]\n",
    "\n",
    "        k1 = funcs(t, y)\n",
    "        k2 = funcs(t + dt / 2, y + dt / 2 * k1)\n",
    "        k3 = funcs(t + dt / 2, y + dt / 2 * k2)\n",
    "        k4 = funcs(t + dt, y + dt * k3)\n",
    "\n",
    "        y_values[i + 1] = y + (dt / 6) * (k1 + 2 * k2 + 2 * k3 + k4)\n",
    "\n",
    "    return t_values, y_values\n",
    "\n",
    "def system_of_equations(t, y):\n",
    "\n",
    "    u = 1 if t > 0 else 0\n",
    "    return np.array([y[1],\n",
    "                     y[2],\n",
    "                     u - 4 * y[2] - 6 * y[1] - 8 * y[0]])\n",
    "\n",
    "\n",
    "\n",
    "def solve_differential_equation(t_array,dt):\n",
    "\n",
    "    y0 = np.array([0, 0, 0])  # Предполагаем начальные условия: y(0)=0, y'(0)=0, y''(0)=0\n",
    "    t0 = t_array[0]\n",
    "    t_end = t_array[-1]\n",
    "\n",
    "    t_values, y_values = runge_kutta_4th_order(system_of_equations, y0, t0, t_end, dt)\n",
    "\n",
    "\n",
    "    return np.interp(t_array, t_values, y_values[:, 0])\n",
    "\n",
    "dt = 0.03\n",
    "t_array = np.arange(0, 10, dt)\n",
    "\n",
    "\n",
    "results = solve_differential_equation(t_array,dt)\n",
    "\n",
    "\n",
    "\n",
    "\n",
    "plt.plot(t_array, results, label='Истинная k')\n",
    "plt.grid()\n",
    "plt.legend()\n",
    "plt.show()"
   ]
  }
 ],
 "metadata": {
  "kernelspec": {
   "display_name": "Python 3",
   "language": "python",
   "name": "python3"
  },
  "language_info": {
   "codemirror_mode": {
    "name": "ipython",
    "version": 3
   },
   "file_extension": ".py",
   "mimetype": "text/x-python",
   "name": "python",
   "nbconvert_exporter": "python",
   "pygments_lexer": "ipython3",
   "version": "3.11.0"
  }
 },
 "nbformat": 4,
 "nbformat_minor": 2
}
